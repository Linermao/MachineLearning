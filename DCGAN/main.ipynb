{
 "cells": [
  {
   "cell_type": "code",
   "execution_count": 9,
   "metadata": {},
   "outputs": [],
   "source": [
    "# Import\n",
    "import tensorflow as tf\n",
    "from tensorflow.keras import layers\n",
    "import matplotlib.pyplot as plt\n",
    "import uuid\n",
    "import os\n",
    "import numpy as np\n",
    "from tensorflow.keras.preprocessing.image import load_img, img_to_array"
   ]
  },
  {
   "cell_type": "code",
   "execution_count": 10,
   "metadata": {},
   "outputs": [],
   "source": [
    "# Initialize variables\n",
    "NUM_EPOCHS = 10\n",
    "BUFFER_SIZE = 30000\n",
    "BATCH_SIZE = 64\n",
    "NOISE_DIMENSION = 75\n",
    "PRINT_STATS_AFTER_BATCH = 50\n",
    "OPTIMIZER_LR = 0.0002\n",
    "OPTIMIZER_BETAS = (0.5, 0.999)\n",
    "WEIGHT_INIT_STDDEV = 0.02\n",
    "OUTPUT_NAME = 'avator'"
   ]
  },
  {
   "cell_type": "code",
   "execution_count": 11,
   "metadata": {},
   "outputs": [],
   "source": [
    "# Initialize loss function, init schema and optimizers\n",
    "cross_entropy_loss = tf.keras.losses.BinaryCrossentropy(from_logits=True)\n",
    "weight_init = tf.keras.initializers.RandomNormal(stddev=WEIGHT_INIT_STDDEV)\n",
    "generator_optimizer = tf.keras.optimizers.Adam(OPTIMIZER_LR, beta_1=OPTIMIZER_BETAS[0], beta_2=OPTIMIZER_BETAS[1])\n",
    "discriminator_optimizer = tf.keras.optimizers.Adam(OPTIMIZER_LR, beta_1=OPTIMIZER_BETAS[0], beta_2=OPTIMIZER_BETAS[1])"
   ]
  },
  {
   "cell_type": "code",
   "execution_count": 12,
   "metadata": {},
   "outputs": [],
   "source": [
    "def make_directory_for_run():\n",
    "  \"\"\" Make a directory for this training run. \"\"\"\n",
    "  print(f'Preparing training run')\n",
    "  if not os.path.exists('./runs'):\n",
    "    os.mkdir('./runs')\n",
    "  os.mkdir(f'./runs/{OUTPUT_NAME}')"
   ]
  },
  {
   "cell_type": "code",
   "execution_count": 13,
   "metadata": {},
   "outputs": [],
   "source": [
    "from tensorflow.keras.preprocessing.image import load_img, img_to_array\n",
    "\n",
    "def load_data_mnist():\n",
    "  \"\"\" Load data \"\"\"\n",
    "  (images, _), (_, _) = tf.keras.datasets.mnist.load_data()\n",
    "  images = images.reshape(images.shape[0], 28, 28, 1)\n",
    "  images = images.astype('float32')\n",
    "  images = (images - 127.5) / 127.5\n",
    "  return tf.data.Dataset.from_tensor_slices(images).shuffle(BUFFER_SIZE).batch(BATCH_SIZE)\n",
    "\n",
    "def load_data():\n",
    "    \"\"\" Load data from ./data directory \"\"\"\n",
    "    image_dir = './data'\n",
    "    images = []\n",
    "    \n",
    "    # Load each image, preprocess, and add to the list\n",
    "    for filename in os.listdir(image_dir):\n",
    "        if filename.endswith(\".jpg\") or filename.endswith(\".png\"):  # Adjust according to your image format\n",
    "            img_path = os.path.join(image_dir, filename)\n",
    "            img = load_img(img_path, target_size=(28, 28), color_mode='grayscale')\n",
    "            img_array = img_to_array(img)\n",
    "            images.append(img_array)\n",
    "    \n",
    "    images = np.array(images)\n",
    "    images = images.reshape(images.shape[0], 28, 28, 1)\n",
    "    images = images.astype('float32')\n",
    "    images = (images - 127.5) / 127.5\n",
    "    \n",
    "    # Convert to TensorFlow dataset\n",
    "    return tf.data.Dataset.from_tensor_slices(images).shuffle(BUFFER_SIZE).batch(BATCH_SIZE)"
   ]
  },
  {
   "cell_type": "code",
   "execution_count": 14,
   "metadata": {},
   "outputs": [],
   "source": [
    "def create_generator():\n",
    "  \"\"\" Create Generator \"\"\"\n",
    "  generator = tf.keras.Sequential()\n",
    "  # Input block\n",
    "  generator.add(layers.Dense(7*7*128, use_bias=False, input_shape=(NOISE_DIMENSION,), \\\n",
    "    kernel_initializer=weight_init))\n",
    "  generator.add(layers.BatchNormalization())\n",
    "  generator.add(layers.LeakyReLU())\n",
    "  # Reshape 1D Tensor into 3D\n",
    "  generator.add(layers.Reshape((7, 7, 128)))\n",
    "  # First upsampling block\n",
    "  generator.add(layers.Conv2DTranspose(56, (5, 5), strides=(1, 1), padding='same', use_bias=False, \\\n",
    "    kernel_initializer=weight_init))\n",
    "  generator.add(layers.BatchNormalization())\n",
    "  generator.add(layers.LeakyReLU())\n",
    "  # Second upsampling block\n",
    "  generator.add(layers.Conv2DTranspose(28, (5, 5), strides=(2, 2), padding='same', use_bias=False, \\\n",
    "    kernel_initializer=weight_init))\n",
    "  generator.add(layers.BatchNormalization())\n",
    "  generator.add(layers.LeakyReLU())\n",
    "  # Third upsampling block: note tanh, specific for DCGAN\n",
    "  generator.add(layers.Conv2DTranspose(1, (5, 5), strides=(2, 2), padding='same', use_bias=False, activation='tanh', \\\n",
    "    kernel_initializer=weight_init))\n",
    "  # Return generator\n",
    "  return generator"
   ]
  },
  {
   "cell_type": "code",
   "execution_count": 15,
   "metadata": {},
   "outputs": [],
   "source": [
    "def generate_noise(number_of_images = 1, noise_dimension = NOISE_DIMENSION):\n",
    "  \"\"\" Generate noise for number_of_images images, with a specific noise_dimension \"\"\"\n",
    "  return tf.random.normal([number_of_images, noise_dimension])\n",
    "\n",
    "def generate_image(generator, epoch = 0, batch = 0):\n",
    "  \"\"\" Generate subplots with generated examples. \"\"\"\n",
    "  images = []\n",
    "  noise = generate_noise(BATCH_SIZE)\n",
    "  images = generator(noise, training=False)\n",
    "  plt.figure(figsize=(10, 10))\n",
    "  for i in range(16):\n",
    "    # Get image and reshape\n",
    "    image = images[i]\n",
    "    image = np.reshape(image, (28, 28))\n",
    "    # Plot\n",
    "    plt.subplot(4, 4, i+1)\n",
    "    plt.imshow(image, cmap='gray')\n",
    "    plt.axis('off')\n",
    "  if not os.path.exists(f'./runs/{OUTPUT_NAME}/images'):\n",
    "    os.mkdir(f'./runs/{OUTPUT_NAME}/images')\n",
    "  plt.savefig(f'./runs/{OUTPUT_NAME}/images/epoch{epoch}_batch{batch}.jpg')\n"
   ]
  },
  {
   "cell_type": "code",
   "execution_count": 16,
   "metadata": {},
   "outputs": [],
   "source": [
    "def create_discriminator():\n",
    "  \"\"\" Create Discriminator \"\"\"\n",
    "  discriminator = tf.keras.Sequential()\n",
    "  # First Convolutional block\n",
    "  discriminator.add(layers.Conv2D(28, (5, 5), strides=(2, 2), padding='same',\n",
    "                                    input_shape=[28, 28, 1], kernel_initializer=weight_init))\n",
    "  discriminator.add(layers.LeakyReLU())\n",
    "  discriminator.add(layers.Dropout(0.5))\n",
    "  # Second Convolutional block\n",
    "  discriminator.add(layers.Conv2D(64, (5, 5), strides=(2, 2), padding='same', kernel_initializer=weight_init))\n",
    "  discriminator.add(layers.LeakyReLU())\n",
    "  discriminator.add(layers.Dropout(0.5))\n",
    "  # Flatten and generate output prediction\n",
    "  discriminator.add(layers.Flatten())\n",
    "  discriminator.add(layers.Dense(1, kernel_initializer=weight_init, activation='sigmoid'))\n",
    "  # Return discriminator\n",
    "  return discriminator"
   ]
  },
  {
   "cell_type": "code",
   "execution_count": 17,
   "metadata": {},
   "outputs": [],
   "source": [
    "def compute_generator_loss(predicted_fake):\n",
    "  \"\"\" Compute cross entropy loss for the generator \"\"\"\n",
    "  return cross_entropy_loss(tf.ones_like(predicted_fake), predicted_fake)\n",
    "\n",
    "\n",
    "def compute_discriminator_loss(predicted_real, predicted_fake):\n",
    "  \"\"\" Compute discriminator loss \"\"\"\n",
    "  loss_on_reals = cross_entropy_loss(tf.ones_like(predicted_real), predicted_real)\n",
    "  loss_on_fakes = cross_entropy_loss(tf.zeros_like(predicted_fake), predicted_fake)\n",
    "  return loss_on_reals + loss_on_fakes"
   ]
  },
  {
   "cell_type": "code",
   "execution_count": 18,
   "metadata": {},
   "outputs": [],
   "source": [
    "def save_models(generator, discriminator, epoch):\n",
    "  \"\"\" Save models at specific point in time. \"\"\"\n",
    "  tf.keras.models.save_model(\n",
    "    generator,\n",
    "    f'./runs/{OUTPUT_NAME}/generator_{epoch}.model',\n",
    "    overwrite=True,\n",
    "    include_optimizer=True,\n",
    "    save_format=None,\n",
    "    signatures=None,\n",
    "    options=None\n",
    "  )\n",
    "  tf.keras.models.save_model(\n",
    "    discriminator,\n",
    "    f'./runs/{OUTPUT_NAME}/discriminator{epoch}.model',\n",
    "    overwrite=True,\n",
    "    include_optimizer=True,\n",
    "    save_format=None,\n",
    "    signatures=None,\n",
    "    options=None\n",
    "  )\n",
    "\n",
    "def print_training_progress(batch, generator_loss, discriminator_loss):\n",
    "  \"\"\" Print training progress. \"\"\"\n",
    "  print('Losses after mini-batch %5d: generator %e, discriminator %e' %\n",
    "        (batch, generator_loss, discriminator_loss))"
   ]
  },
  {
   "cell_type": "code",
   "execution_count": 19,
   "metadata": {},
   "outputs": [],
   "source": [
    "@tf.function\n",
    "def perform_train_step(real_images, generator, discriminator):\n",
    "  \"\"\" Perform one training step with Gradient Tapes \"\"\"\n",
    "  # Generate noise\n",
    "  noise = generate_noise(BATCH_SIZE)\n",
    "  # Feed forward and loss computation for one batch\n",
    "  with tf.GradientTape() as discriminator_tape, \\\n",
    "      tf.GradientTape() as generator_tape:\n",
    "        # Generate images\n",
    "        generated_images = generator(noise, training=True)\n",
    "        # Discriminate generated and real images\n",
    "        discriminated_generated_images = discriminator(generated_images, training=True)\n",
    "        discriminated_real_images = discriminator(real_images, training=True)\n",
    "        # Compute loss\n",
    "        generator_loss = compute_generator_loss(discriminated_generated_images)\n",
    "        discriminator_loss = compute_discriminator_loss(discriminated_real_images, discriminated_generated_images)\n",
    "  # Compute gradients\n",
    "  generator_gradients = generator_tape.gradient(generator_loss, generator.trainable_variables)\n",
    "  discriminator_gradients = discriminator_tape.gradient(discriminator_loss, discriminator.trainable_variables)\n",
    "  # Optimize model using gradients\n",
    "  generator_optimizer.apply_gradients(zip(generator_gradients, generator.trainable_variables))\n",
    "  discriminator_optimizer.apply_gradients(zip(discriminator_gradients, discriminator.trainable_variables))\n",
    "  # Return generator and discriminator losses\n",
    "  return (generator_loss, discriminator_loss)"
   ]
  },
  {
   "cell_type": "code",
   "execution_count": 20,
   "metadata": {},
   "outputs": [],
   "source": [
    "def train_gan(num_epochs, image_data, generator, discriminator):\n",
    "  \"\"\" Train the GAN \"\"\"\n",
    "  # Perform one training step per batch for every epoch\n",
    "  for epoch_no in range(num_epochs):\n",
    "    num_batches = image_data.__len__()\n",
    "    print(f'Starting epoch {epoch_no+1} with {num_batches} batches...')\n",
    "    batch_no = 0\n",
    "    # Iterate over batches within epoch\n",
    "    for batch in image_data:\n",
    "      generator_loss, discriminator_loss = perform_train_step(batch, generator, discriminator)\n",
    "      batch_no += 1\n",
    "      # Print statistics and generate image after every n-th batch\n",
    "      if batch_no % PRINT_STATS_AFTER_BATCH == 0:\n",
    "        print_training_progress(batch_no, generator_loss, discriminator_loss)\n",
    "        generate_image(generator, epoch_no, batch_no)\n",
    "    # Save models on epoch completion.\n",
    "    save_models(generator, discriminator, epoch_no)\n",
    "  # Finished :-)\n",
    "  print(f'Finished unique run {OUTPUT_NAME}')"
   ]
  },
  {
   "cell_type": "code",
   "execution_count": 21,
   "metadata": {},
   "outputs": [],
   "source": [
    "def run_gan():\n",
    "  \"\"\" Initialization and training \"\"\"\n",
    "  # Make run directory\n",
    "  make_directory_for_run()\n",
    "  # Set random seed\n",
    "  tf.random.set_seed(42)\n",
    "  # Get image data\n",
    "  data = load_data()\n",
    "  # Create generator and discriminator\n",
    "  generator = create_generator()\n",
    "  discriminator = create_discriminator()\n",
    "  # Train the GAN\n",
    "  print('Training GAN ...')\n",
    "  train_gan(NUM_EPOCHS, data, generator, discriminator)"
   ]
  },
  {
   "cell_type": "code",
   "execution_count": 22,
   "metadata": {},
   "outputs": [
    {
     "name": "stdout",
     "output_type": "stream",
     "text": [
      "Preparing training run\n"
     ]
    },
    {
     "name": "stderr",
     "output_type": "stream",
     "text": [
      "/home/alvin/miniconda3/envs/MLDL/lib/python3.10/site-packages/keras/src/initializers/initializers.py:120: UserWarning: The initializer RandomNormal is unseeded and being called multiple times, which will return identical values each time (even if the initializer is unseeded). Please update your code to provide a seed to the initializer, or avoid using the same initializer instance more than once.\n",
      "  warnings.warn(\n",
      "/home/alvin/miniconda3/envs/MLDL/lib/python3.10/site-packages/keras/src/backend.py:5818: UserWarning: \"`binary_crossentropy` received `from_logits=True`, but the `output` argument was produced by a Sigmoid activation and thus does not represent logits. Was this intended?\n",
      "  output, from_logits = _get_logits(\n"
     ]
    },
    {
     "name": "stdout",
     "output_type": "stream",
     "text": [
      "Training GAN ...\n",
      "Starting epoch 1 with 1 batches...\n"
     ]
    },
    {
     "name": "stderr",
     "output_type": "stream",
     "text": [
      "2024-06-13 01:30:47.817948: E tensorflow/core/grappler/optimizers/meta_optimizer.cc:961] layout failed: INVALID_ARGUMENT: Size of values 0 does not match size of permutation 4 @ fanin shape insequential_1/dropout/dropout_1/SelectV2-2-TransposeNHWCToNCHW-LayoutOptimizer\n",
      "2024-06-13 01:30:47.958504: I external/local_xla/xla/stream_executor/cuda/cuda_dnn.cc:454] Loaded cuDNN version 8907\n",
      "2024-06-13 01:30:49.597157: I external/local_xla/xla/service/service.cc:168] XLA service 0x761727276ef0 initialized for platform CUDA (this does not guarantee that XLA will be used). Devices:\n",
      "2024-06-13 01:30:49.597175: I external/local_xla/xla/service/service.cc:176]   StreamExecutor device (0): NVIDIA GeForce RTX 4060, Compute Capability 8.9\n",
      "2024-06-13 01:30:49.603808: I tensorflow/compiler/mlir/tensorflow/utils/dump_mlir_util.cc:269] disabling MLIR crash reproducer, set env var `MLIR_CRASH_REPRODUCER_DIRECTORY` to enable.\n",
      "WARNING: All log messages before absl::InitializeLog() is called are written to STDERR\n",
      "I0000 00:00:1718267449.676746    3597 device_compiler.h:186] Compiled cluster using XLA!  This line is logged at most once for the lifetime of the process.\n"
     ]
    },
    {
     "name": "stdout",
     "output_type": "stream",
     "text": [
      "WARNING:tensorflow:Compiled the loaded model, but the compiled metrics have yet to be built. `model.compile_metrics` will be empty until you train or evaluate the model.\n",
      "INFO:tensorflow:Assets written to: ./runs/generator_0.model/assets\n"
     ]
    },
    {
     "name": "stderr",
     "output_type": "stream",
     "text": [
      "INFO:tensorflow:Assets written to: ./runs/generator_0.model/assets\n"
     ]
    },
    {
     "name": "stdout",
     "output_type": "stream",
     "text": [
      "WARNING:tensorflow:Compiled the loaded model, but the compiled metrics have yet to be built. `model.compile_metrics` will be empty until you train or evaluate the model.\n"
     ]
    },
    {
     "name": "stderr",
     "output_type": "stream",
     "text": [
      "WARNING:tensorflow:Compiled the loaded model, but the compiled metrics have yet to be built. `model.compile_metrics` will be empty until you train or evaluate the model.\n"
     ]
    },
    {
     "name": "stdout",
     "output_type": "stream",
     "text": [
      "INFO:tensorflow:Assets written to: ./runs/avator/discriminator0.model/assets\n"
     ]
    },
    {
     "name": "stderr",
     "output_type": "stream",
     "text": [
      "INFO:tensorflow:Assets written to: ./runs/avator/discriminator0.model/assets\n"
     ]
    },
    {
     "name": "stdout",
     "output_type": "stream",
     "text": [
      "Starting epoch 2 with 1 batches...\n",
      "WARNING:tensorflow:Compiled the loaded model, but the compiled metrics have yet to be built. `model.compile_metrics` will be empty until you train or evaluate the model.\n"
     ]
    },
    {
     "name": "stderr",
     "output_type": "stream",
     "text": [
      "WARNING:tensorflow:Compiled the loaded model, but the compiled metrics have yet to be built. `model.compile_metrics` will be empty until you train or evaluate the model.\n"
     ]
    },
    {
     "name": "stdout",
     "output_type": "stream",
     "text": [
      "INFO:tensorflow:Assets written to: ./runs/generator_1.model/assets\n"
     ]
    },
    {
     "name": "stderr",
     "output_type": "stream",
     "text": [
      "INFO:tensorflow:Assets written to: ./runs/generator_1.model/assets\n"
     ]
    },
    {
     "name": "stdout",
     "output_type": "stream",
     "text": [
      "WARNING:tensorflow:Compiled the loaded model, but the compiled metrics have yet to be built. `model.compile_metrics` will be empty until you train or evaluate the model.\n"
     ]
    },
    {
     "name": "stderr",
     "output_type": "stream",
     "text": [
      "WARNING:tensorflow:Compiled the loaded model, but the compiled metrics have yet to be built. `model.compile_metrics` will be empty until you train or evaluate the model.\n"
     ]
    },
    {
     "name": "stdout",
     "output_type": "stream",
     "text": [
      "INFO:tensorflow:Assets written to: ./runs/avator/discriminator1.model/assets\n"
     ]
    },
    {
     "name": "stderr",
     "output_type": "stream",
     "text": [
      "INFO:tensorflow:Assets written to: ./runs/avator/discriminator1.model/assets\n"
     ]
    },
    {
     "name": "stdout",
     "output_type": "stream",
     "text": [
      "Starting epoch 3 with 1 batches...\n",
      "WARNING:tensorflow:Compiled the loaded model, but the compiled metrics have yet to be built. `model.compile_metrics` will be empty until you train or evaluate the model.\n"
     ]
    },
    {
     "name": "stderr",
     "output_type": "stream",
     "text": [
      "WARNING:tensorflow:Compiled the loaded model, but the compiled metrics have yet to be built. `model.compile_metrics` will be empty until you train or evaluate the model.\n"
     ]
    },
    {
     "name": "stdout",
     "output_type": "stream",
     "text": [
      "INFO:tensorflow:Assets written to: ./runs/generator_2.model/assets\n"
     ]
    },
    {
     "name": "stderr",
     "output_type": "stream",
     "text": [
      "INFO:tensorflow:Assets written to: ./runs/generator_2.model/assets\n"
     ]
    },
    {
     "name": "stdout",
     "output_type": "stream",
     "text": [
      "WARNING:tensorflow:Compiled the loaded model, but the compiled metrics have yet to be built. `model.compile_metrics` will be empty until you train or evaluate the model.\n"
     ]
    },
    {
     "name": "stderr",
     "output_type": "stream",
     "text": [
      "WARNING:tensorflow:Compiled the loaded model, but the compiled metrics have yet to be built. `model.compile_metrics` will be empty until you train or evaluate the model.\n"
     ]
    },
    {
     "name": "stdout",
     "output_type": "stream",
     "text": [
      "INFO:tensorflow:Assets written to: ./runs/avator/discriminator2.model/assets\n"
     ]
    },
    {
     "name": "stderr",
     "output_type": "stream",
     "text": [
      "INFO:tensorflow:Assets written to: ./runs/avator/discriminator2.model/assets\n"
     ]
    },
    {
     "name": "stdout",
     "output_type": "stream",
     "text": [
      "Starting epoch 4 with 1 batches...\n",
      "WARNING:tensorflow:Compiled the loaded model, but the compiled metrics have yet to be built. `model.compile_metrics` will be empty until you train or evaluate the model.\n"
     ]
    },
    {
     "name": "stderr",
     "output_type": "stream",
     "text": [
      "WARNING:tensorflow:Compiled the loaded model, but the compiled metrics have yet to be built. `model.compile_metrics` will be empty until you train or evaluate the model.\n"
     ]
    },
    {
     "name": "stdout",
     "output_type": "stream",
     "text": [
      "INFO:tensorflow:Assets written to: ./runs/generator_3.model/assets\n"
     ]
    },
    {
     "name": "stderr",
     "output_type": "stream",
     "text": [
      "INFO:tensorflow:Assets written to: ./runs/generator_3.model/assets\n"
     ]
    },
    {
     "name": "stdout",
     "output_type": "stream",
     "text": [
      "WARNING:tensorflow:Compiled the loaded model, but the compiled metrics have yet to be built. `model.compile_metrics` will be empty until you train or evaluate the model.\n"
     ]
    },
    {
     "name": "stderr",
     "output_type": "stream",
     "text": [
      "WARNING:tensorflow:Compiled the loaded model, but the compiled metrics have yet to be built. `model.compile_metrics` will be empty until you train or evaluate the model.\n"
     ]
    },
    {
     "name": "stdout",
     "output_type": "stream",
     "text": [
      "INFO:tensorflow:Assets written to: ./runs/avator/discriminator3.model/assets\n"
     ]
    },
    {
     "name": "stderr",
     "output_type": "stream",
     "text": [
      "INFO:tensorflow:Assets written to: ./runs/avator/discriminator3.model/assets\n"
     ]
    },
    {
     "name": "stdout",
     "output_type": "stream",
     "text": [
      "Starting epoch 5 with 1 batches...\n",
      "WARNING:tensorflow:Compiled the loaded model, but the compiled metrics have yet to be built. `model.compile_metrics` will be empty until you train or evaluate the model.\n"
     ]
    },
    {
     "name": "stderr",
     "output_type": "stream",
     "text": [
      "WARNING:tensorflow:Compiled the loaded model, but the compiled metrics have yet to be built. `model.compile_metrics` will be empty until you train or evaluate the model.\n"
     ]
    },
    {
     "name": "stdout",
     "output_type": "stream",
     "text": [
      "INFO:tensorflow:Assets written to: ./runs/generator_4.model/assets\n"
     ]
    },
    {
     "name": "stderr",
     "output_type": "stream",
     "text": [
      "INFO:tensorflow:Assets written to: ./runs/generator_4.model/assets\n"
     ]
    },
    {
     "name": "stdout",
     "output_type": "stream",
     "text": [
      "WARNING:tensorflow:Compiled the loaded model, but the compiled metrics have yet to be built. `model.compile_metrics` will be empty until you train or evaluate the model.\n"
     ]
    },
    {
     "name": "stderr",
     "output_type": "stream",
     "text": [
      "WARNING:tensorflow:Compiled the loaded model, but the compiled metrics have yet to be built. `model.compile_metrics` will be empty until you train or evaluate the model.\n"
     ]
    },
    {
     "name": "stdout",
     "output_type": "stream",
     "text": [
      "INFO:tensorflow:Assets written to: ./runs/avator/discriminator4.model/assets\n"
     ]
    },
    {
     "name": "stderr",
     "output_type": "stream",
     "text": [
      "INFO:tensorflow:Assets written to: ./runs/avator/discriminator4.model/assets\n"
     ]
    },
    {
     "name": "stdout",
     "output_type": "stream",
     "text": [
      "Starting epoch 6 with 1 batches...\n",
      "WARNING:tensorflow:Compiled the loaded model, but the compiled metrics have yet to be built. `model.compile_metrics` will be empty until you train or evaluate the model.\n"
     ]
    },
    {
     "name": "stderr",
     "output_type": "stream",
     "text": [
      "WARNING:tensorflow:Compiled the loaded model, but the compiled metrics have yet to be built. `model.compile_metrics` will be empty until you train or evaluate the model.\n"
     ]
    },
    {
     "name": "stdout",
     "output_type": "stream",
     "text": [
      "INFO:tensorflow:Assets written to: ./runs/generator_5.model/assets\n"
     ]
    },
    {
     "name": "stderr",
     "output_type": "stream",
     "text": [
      "INFO:tensorflow:Assets written to: ./runs/generator_5.model/assets\n"
     ]
    },
    {
     "name": "stdout",
     "output_type": "stream",
     "text": [
      "WARNING:tensorflow:Compiled the loaded model, but the compiled metrics have yet to be built. `model.compile_metrics` will be empty until you train or evaluate the model.\n"
     ]
    },
    {
     "name": "stderr",
     "output_type": "stream",
     "text": [
      "WARNING:tensorflow:Compiled the loaded model, but the compiled metrics have yet to be built. `model.compile_metrics` will be empty until you train or evaluate the model.\n"
     ]
    },
    {
     "name": "stdout",
     "output_type": "stream",
     "text": [
      "INFO:tensorflow:Assets written to: ./runs/avator/discriminator5.model/assets\n"
     ]
    },
    {
     "name": "stderr",
     "output_type": "stream",
     "text": [
      "INFO:tensorflow:Assets written to: ./runs/avator/discriminator5.model/assets\n"
     ]
    },
    {
     "name": "stdout",
     "output_type": "stream",
     "text": [
      "Starting epoch 7 with 1 batches...\n",
      "WARNING:tensorflow:Compiled the loaded model, but the compiled metrics have yet to be built. `model.compile_metrics` will be empty until you train or evaluate the model.\n"
     ]
    },
    {
     "name": "stderr",
     "output_type": "stream",
     "text": [
      "WARNING:tensorflow:Compiled the loaded model, but the compiled metrics have yet to be built. `model.compile_metrics` will be empty until you train or evaluate the model.\n"
     ]
    },
    {
     "name": "stdout",
     "output_type": "stream",
     "text": [
      "INFO:tensorflow:Assets written to: ./runs/generator_6.model/assets\n"
     ]
    },
    {
     "name": "stderr",
     "output_type": "stream",
     "text": [
      "INFO:tensorflow:Assets written to: ./runs/generator_6.model/assets\n"
     ]
    },
    {
     "name": "stdout",
     "output_type": "stream",
     "text": [
      "WARNING:tensorflow:Compiled the loaded model, but the compiled metrics have yet to be built. `model.compile_metrics` will be empty until you train or evaluate the model.\n"
     ]
    },
    {
     "name": "stderr",
     "output_type": "stream",
     "text": [
      "WARNING:tensorflow:Compiled the loaded model, but the compiled metrics have yet to be built. `model.compile_metrics` will be empty until you train or evaluate the model.\n"
     ]
    },
    {
     "name": "stdout",
     "output_type": "stream",
     "text": [
      "INFO:tensorflow:Assets written to: ./runs/avator/discriminator6.model/assets\n"
     ]
    },
    {
     "name": "stderr",
     "output_type": "stream",
     "text": [
      "INFO:tensorflow:Assets written to: ./runs/avator/discriminator6.model/assets\n"
     ]
    },
    {
     "name": "stdout",
     "output_type": "stream",
     "text": [
      "Starting epoch 8 with 1 batches...\n",
      "WARNING:tensorflow:Compiled the loaded model, but the compiled metrics have yet to be built. `model.compile_metrics` will be empty until you train or evaluate the model.\n"
     ]
    },
    {
     "name": "stderr",
     "output_type": "stream",
     "text": [
      "WARNING:tensorflow:Compiled the loaded model, but the compiled metrics have yet to be built. `model.compile_metrics` will be empty until you train or evaluate the model.\n"
     ]
    },
    {
     "name": "stdout",
     "output_type": "stream",
     "text": [
      "INFO:tensorflow:Assets written to: ./runs/generator_7.model/assets\n"
     ]
    },
    {
     "name": "stderr",
     "output_type": "stream",
     "text": [
      "INFO:tensorflow:Assets written to: ./runs/generator_7.model/assets\n"
     ]
    },
    {
     "name": "stdout",
     "output_type": "stream",
     "text": [
      "WARNING:tensorflow:Compiled the loaded model, but the compiled metrics have yet to be built. `model.compile_metrics` will be empty until you train or evaluate the model.\n"
     ]
    },
    {
     "name": "stderr",
     "output_type": "stream",
     "text": [
      "WARNING:tensorflow:Compiled the loaded model, but the compiled metrics have yet to be built. `model.compile_metrics` will be empty until you train or evaluate the model.\n"
     ]
    },
    {
     "name": "stdout",
     "output_type": "stream",
     "text": [
      "INFO:tensorflow:Assets written to: ./runs/avator/discriminator7.model/assets\n"
     ]
    },
    {
     "name": "stderr",
     "output_type": "stream",
     "text": [
      "INFO:tensorflow:Assets written to: ./runs/avator/discriminator7.model/assets\n"
     ]
    },
    {
     "name": "stdout",
     "output_type": "stream",
     "text": [
      "Starting epoch 9 with 1 batches...\n",
      "WARNING:tensorflow:Compiled the loaded model, but the compiled metrics have yet to be built. `model.compile_metrics` will be empty until you train or evaluate the model.\n"
     ]
    },
    {
     "name": "stderr",
     "output_type": "stream",
     "text": [
      "WARNING:tensorflow:Compiled the loaded model, but the compiled metrics have yet to be built. `model.compile_metrics` will be empty until you train or evaluate the model.\n"
     ]
    },
    {
     "name": "stdout",
     "output_type": "stream",
     "text": [
      "INFO:tensorflow:Assets written to: ./runs/generator_8.model/assets\n"
     ]
    },
    {
     "name": "stderr",
     "output_type": "stream",
     "text": [
      "INFO:tensorflow:Assets written to: ./runs/generator_8.model/assets\n"
     ]
    },
    {
     "name": "stdout",
     "output_type": "stream",
     "text": [
      "WARNING:tensorflow:Compiled the loaded model, but the compiled metrics have yet to be built. `model.compile_metrics` will be empty until you train or evaluate the model.\n"
     ]
    },
    {
     "name": "stderr",
     "output_type": "stream",
     "text": [
      "WARNING:tensorflow:Compiled the loaded model, but the compiled metrics have yet to be built. `model.compile_metrics` will be empty until you train or evaluate the model.\n"
     ]
    },
    {
     "name": "stdout",
     "output_type": "stream",
     "text": [
      "INFO:tensorflow:Assets written to: ./runs/avator/discriminator8.model/assets\n"
     ]
    },
    {
     "name": "stderr",
     "output_type": "stream",
     "text": [
      "INFO:tensorflow:Assets written to: ./runs/avator/discriminator8.model/assets\n"
     ]
    },
    {
     "name": "stdout",
     "output_type": "stream",
     "text": [
      "Starting epoch 10 with 1 batches...\n",
      "WARNING:tensorflow:Compiled the loaded model, but the compiled metrics have yet to be built. `model.compile_metrics` will be empty until you train or evaluate the model.\n"
     ]
    },
    {
     "name": "stderr",
     "output_type": "stream",
     "text": [
      "WARNING:tensorflow:Compiled the loaded model, but the compiled metrics have yet to be built. `model.compile_metrics` will be empty until you train or evaluate the model.\n"
     ]
    },
    {
     "name": "stdout",
     "output_type": "stream",
     "text": [
      "INFO:tensorflow:Assets written to: ./runs/generator_9.model/assets\n"
     ]
    },
    {
     "name": "stderr",
     "output_type": "stream",
     "text": [
      "INFO:tensorflow:Assets written to: ./runs/generator_9.model/assets\n"
     ]
    },
    {
     "name": "stdout",
     "output_type": "stream",
     "text": [
      "WARNING:tensorflow:Compiled the loaded model, but the compiled metrics have yet to be built. `model.compile_metrics` will be empty until you train or evaluate the model.\n"
     ]
    },
    {
     "name": "stderr",
     "output_type": "stream",
     "text": [
      "WARNING:tensorflow:Compiled the loaded model, but the compiled metrics have yet to be built. `model.compile_metrics` will be empty until you train or evaluate the model.\n"
     ]
    },
    {
     "name": "stdout",
     "output_type": "stream",
     "text": [
      "INFO:tensorflow:Assets written to: ./runs/avator/discriminator9.model/assets\n"
     ]
    },
    {
     "name": "stderr",
     "output_type": "stream",
     "text": [
      "INFO:tensorflow:Assets written to: ./runs/avator/discriminator9.model/assets\n"
     ]
    },
    {
     "name": "stdout",
     "output_type": "stream",
     "text": [
      "Finished unique run avator\n"
     ]
    }
   ],
   "source": [
    "if __name__ == '__main__':\n",
    "  run_gan()"
   ]
  }
 ],
 "metadata": {
  "kernelspec": {
   "display_name": "MLDL",
   "language": "python",
   "name": "python3"
  },
  "language_info": {
   "codemirror_mode": {
    "name": "ipython",
    "version": 3
   },
   "file_extension": ".py",
   "mimetype": "text/x-python",
   "name": "python",
   "nbconvert_exporter": "python",
   "pygments_lexer": "ipython3",
   "version": "3.10.0"
  }
 },
 "nbformat": 4,
 "nbformat_minor": 2
}
